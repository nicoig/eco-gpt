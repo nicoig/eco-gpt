{
 "cells": [
  {
   "cell_type": "code",
   "execution_count": 1,
   "metadata": {},
   "outputs": [
    {
     "name": "stdout",
     "output_type": "stream",
     "text": [
      "Tablas en la base de datos:\n",
      "users\n",
      "\n",
      "Contenido de la tabla users:\n",
      "Columnas: ['email', 'password', 'google_id']\n",
      "('n.guerravillalobos@gmail.com', b'$2b$12$gP631tkUou8SPwLsZkbmFuJ/woc9BEAWlxVsprurvrCqWsofa.pg2', '117478515465691729898')\n",
      "('nico@gmail.com', b'$2b$12$MEP8MDyzVK/x5R4aJrBtOeBvTleAu/VYFHdYClmHgh8uLCBjCf0zO', None)\n",
      "\n",
      "--------------------------------------------------\n",
      "reciclaje\n",
      "\n",
      "Contenido de la tabla reciclaje:\n",
      "Columnas: ['email', 'descripcion', 'fecha']\n",
      "('n.guerravillalobos@gmail.com', 'El envase de néctar de naranja, comúnmente hecho de cartón y recubierto con una capa de polietileno, es reciclable. Para reciclarlo, primero enjuaga el envase para eliminar residuos de líquidos y asegúrate de aplastarlo. Luego, colócalo en el contenedor de reciclaje correspondiente.\\n\\nReciclar este tipo de envase puede reducir las emisiones de CO2 en aproximadamente 40% en comparación con la producción de materiales nuevos. Esto se traduce en una disminución de alrededor de 0.65 kg de CO2 por envase reciclado, contribuyendo significativamente a la mitigación del cambio climático y a la conservación de recursos.', '2024-07-20 11:11:33')\n",
      "('n.guerravillalobos@gmail.com', 'El packaging de las papas fritas, como el de la bolsa de Marco Polo, suele estar compuesto por materiales mixtos, como plástico y aluminio, que dificultan su reciclaje. Para reciclarlo, primero verifica las normas locales; en algunos lugares puede desecharse en el contenedor de plástico, mientras que en otros se necesita llevarlo a puntos específicos de reciclaje. Reciclar materiales como el plástico puede reducir las emisiones de CO2 en un 60% en comparación con la producción de nuevos plásticos. Evitar que estas bolsas terminen en vertederos también contribuye a la reducción de emisiones de gases de efecto invernadero.', '2024-07-20 11:15:39')\n",
      "('n.guerravillalobos@gmail.com', 'El empaque de las papas fritas de 380 g generalmente está hecho de una mezcla de materiales, como plásticos y aluminio, que no son fácilmente reciclables. Para reciclarlo, los consumidores deben verificar las normas locales: algunos centros aceptan estos materiales si están limpios y secos. Al reciclar, se ahorra energía y se reducen las emisiones de CO2. Por cada kilo de plástico reciclado se estima que se evita la emisión de aproximadamente 1.5 kg de CO2. Si consideramos el empaque de 380 g, el impacto sería reducir aproximadamente 0.57 kg de CO2 al reciclar adecuadamente.', '2024-07-20 11:18:10')\n",
      "\n",
      "--------------------------------------------------\n"
     ]
    }
   ],
   "source": [
    "import sqlite3\n",
    "\n",
    "# Conectar a la base de datos\n",
    "conn = sqlite3.connect('users.db')\n",
    "cursor = conn.cursor()\n",
    "\n",
    "# Obtener los nombres de las tablas\n",
    "cursor.execute(\"SELECT name FROM sqlite_master WHERE type='table';\")\n",
    "tablas = cursor.fetchall()\n",
    "\n",
    "print(\"Tablas en la base de datos:\")\n",
    "for tabla in tablas:\n",
    "    print(tabla[0])\n",
    "    \n",
    "    # Mostrar el contenido de cada tabla\n",
    "    print(f\"\\nContenido de la tabla {tabla[0]}:\")\n",
    "    cursor.execute(f\"SELECT * FROM {tabla[0]}\")\n",
    "    filas = cursor.fetchall()\n",
    "    \n",
    "    # Obtener los nombres de las columnas\n",
    "    columnas = [descripcion[0] for descripcion in cursor.description]\n",
    "    print(\"Columnas:\", columnas)\n",
    "    \n",
    "    # Mostrar cada fila\n",
    "    for fila in filas:\n",
    "        print(fila)\n",
    "    \n",
    "    print(\"\\n\" + \"-\"*50)\n",
    "\n",
    "# Cerrar la conexión\n",
    "conn.close()"
   ]
  },
  {
   "cell_type": "code",
   "execution_count": 4,
   "metadata": {},
   "outputs": [
    {
     "ename": "NameError",
     "evalue": "name 'users' is not defined",
     "output_type": "error",
     "traceback": [
      "\u001b[1;31m---------------------------------------------------------------------------\u001b[0m",
      "\u001b[1;31mNameError\u001b[0m                                 Traceback (most recent call last)",
      "Cell \u001b[1;32mIn[4], line 2\u001b[0m\n\u001b[0;32m      1\u001b[0m \u001b[38;5;28;01mfor\u001b[39;00m tabla \u001b[38;5;129;01min\u001b[39;00m tablas:\n\u001b[1;32m----> 2\u001b[0m     tabla_nombre \u001b[38;5;241m=\u001b[39m \u001b[43musers\u001b[49m\n\u001b[0;32m      3\u001b[0m     cursor\u001b[38;5;241m.\u001b[39mexecute(\u001b[38;5;124mf\u001b[39m\u001b[38;5;124m\"\u001b[39m\u001b[38;5;124mSELECT COUNT(*) FROM \u001b[39m\u001b[38;5;132;01m{\u001b[39;00mtabla_nombre\u001b[38;5;132;01m}\u001b[39;00m\u001b[38;5;124m\"\u001b[39m)\n\u001b[0;32m      4\u001b[0m     conteo \u001b[38;5;241m=\u001b[39m cursor\u001b[38;5;241m.\u001b[39mfetchone()[\u001b[38;5;241m0\u001b[39m]\n",
      "\u001b[1;31mNameError\u001b[0m: name 'users' is not defined"
     ]
    }
   ],
   "source": [
    "for tabla in tablas:\n",
    "    tabla_nombre = tabla[0]\n",
    "    cursor.execute(f\"SELECT COUNT(*) FROM {tabla_nombre}\")\n",
    "    conteo = cursor.fetchone()[0]\n",
    "    print(f\"Cantidad de registros en la tabla {tabla_nombre}: {conteo}\")\n"
   ]
  }
 ],
 "metadata": {
  "kernelspec": {
   "display_name": "Python 3",
   "language": "python",
   "name": "python3"
  },
  "language_info": {
   "codemirror_mode": {
    "name": "ipython",
    "version": 3
   },
   "file_extension": ".py",
   "mimetype": "text/x-python",
   "name": "python",
   "nbconvert_exporter": "python",
   "pygments_lexer": "ipython3",
   "version": "3.12.4"
  }
 },
 "nbformat": 4,
 "nbformat_minor": 2
}
